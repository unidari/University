{
  "nbformat": 4,
  "nbformat_minor": 0,
  "metadata": {
    "colab": {
      "provenance": [],
      "include_colab_link": true
    },
    "kernelspec": {
      "name": "python3",
      "display_name": "Python 3"
    },
    "language_info": {
      "name": "python"
    }
  },
  "cells": [
    {
      "cell_type": "markdown",
      "metadata": {
        "id": "view-in-github",
        "colab_type": "text"
      },
      "source": [
        "<a href=\"https://colab.research.google.com/github/unidari/University/blob/main/_____3_____.ipynb\" target=\"_parent\"><img src=\"https://colab.research.google.com/assets/colab-badge.svg\" alt=\"Open In Colab\"/></a>"
      ]
    },
    {
      "cell_type": "markdown",
      "source": [
        "# **Практическая работа №3. Введение в ООП**\n",
        "\n",
        "\n"
      ],
      "metadata": {
        "id": "s-EuQCpnWXCn"
      }
    },
    {
      "cell_type": "markdown",
      "source": [
        "## **Задание №1. Создайте класс Sphere для представления сферы в трехмерном пространстве**\n"
      ],
      "metadata": {
        "id": "TQ5SpdjdbD4D"
      }
    },
    {
      "cell_type": "markdown",
      "source": [
        "Обеспечьте следующие методы класса:\n",
        "\n",
        "1. Конструктор, принимающий 4 действительных числа: радиус, и 3 координаты центра шара. Если конструктор вызывается без аргументов, создать объект сферы с единичным радиусом и центром в начале координат. Если конструктор вызывается с аргументом, создать объект сферы с соответствующим радиусом и центром в начале координат.\n",
        "\n",
        "2. Метод get_volume (), который возвращает действительное число — объем шара, ограниченной текущей сферой.\n",
        "\n",
        "3. Метод get_square (), который возвращает действительное число — площадь внешней поверхности сферы.\n",
        "\n",
        "4. Метод get_radius (), который возвращает действительное число — радиус сферы.\n",
        "\n",
        "5. Метод get_center (), который возвращает тьюпл с 3 действительными числами — координатами центра сферы в том же порядке, в каком они задаются в конструкторе.\n",
        "\n",
        "6. Метод set_radius (r), который принимает 1 аргумент — действительное число, и меняет радиус текущей сферы, ничего не возвращая.\n",
        "\n",
        "7. Метод set_center (x, y, z), который принимает 3 аргумента — действительных числа, и меняет координаты центра сферы, ничего не возвращая. Координаты задаются в том же порядке, что и в конструкторе.\n",
        "\n",
        "8. Метод is_point_inside (x, y, z), который принимает 3 аргумента — действительных числа — координаты некоторой точки в пространстве (в том же порядке, что и в конструкторе), и возвращает логическое значение True или False в зависимости от того, находится эта точка внутри сферы."
      ],
      "metadata": {
        "id": "Q5Ow51wfASZH"
      }
    },
    {
      "cell_type": "code",
      "source": [
        "# Тесты\n",
        "\n",
        "s0 = Sphere(0.5) # test sphere creation with radius and default center\n",
        "print(s0.get_center()) # (0.0, 0.0, 0.0)\n",
        "print(s0.get_volume()) # 0.523598775598\n",
        "print(s0.is_point_inside(0 , -1.5, 0)) # False\n",
        "s0.set_radius(1.6)\n",
        "print(s0.is_point_inside(0, -1.5, 0)) # True\n",
        "print(s0.get_radius()) # 1.6"
      ],
      "metadata": {
        "id": "xYx3bR2Lbv42"
      },
      "execution_count": null,
      "outputs": []
    },
    {
      "cell_type": "code",
      "source": [
        "import math\n",
        "\n",
        "class Sphere:\n",
        "  \"Это класс для представления сферы в трехмерном пространстве\"\n",
        "\n",
        "  def __init__(self, radius: float = 1.0, x_center: float = 0.0, y_center: float = 0.0, z_center: float = 0.0):\n",
        "    self.radius = radius\n",
        "    self.x_center = x_center\n",
        "    self.y_center = y_center\n",
        "    self.z_center= z_center\n",
        "\n",
        "  def get_volume(self):\n",
        "    return (4/3)*math.pi*(self.radius)**3\n",
        "\n",
        "  def get_square(self):\n",
        "    return 4*math.pi*(self.radius)**2\n",
        "\n",
        "  def get_radius(self):\n",
        "    return self.radius\n",
        "\n",
        "  def get_center(self):\n",
        "    return (self.x_center, self.y_center, self.z_center)\n",
        "\n",
        "  def set_radius(self, r: float):\n",
        "    self.radius = r\n",
        "\n",
        "  def is_point_inside(self, x: float, y: float, z: float):\n",
        "    return (x - self.x_center)**2 + (y - self.y_center)**2 + (z - self.z_center)**2 < (self.radius)**2\n",
        "\n",
        "  # Тесты\n",
        "\n",
        "s0 = Sphere(0.5) # test sphere creation with radius and default center\n",
        "print(s0.get_center()) # (0.0, 0.0, 0.0)\n",
        "print(s0.get_volume()) # 0.523598775598\n",
        "print(s0.is_point_inside(0 , -1.5, 0)) # False\n",
        "s0.set_radius(1.6)\n",
        "print(s0.is_point_inside(0, -1.5, 0)) # True\n",
        "print(s0.get_radius()) # 1.6"
      ],
      "metadata": {
        "id": "d-vd-AYRdBId",
        "colab": {
          "base_uri": "https://localhost:8080/"
        },
        "outputId": "78677ba9-0be6-4b85-aed3-fad2397977d7"
      },
      "execution_count": null,
      "outputs": [
        {
          "output_type": "stream",
          "name": "stdout",
          "text": [
            "(0.0, 0.0, 0.0)\n",
            "0.5235987755982988\n",
            "False\n",
            "True\n",
            "1.6\n"
          ]
        }
      ]
    },
    {
      "cell_type": "markdown",
      "source": [
        "## **Задание №2. Создайте класс SuperStr, который наследует стандартный класс str и содержит 2 новых метода:**"
      ],
      "metadata": {
        "id": "UuJ9K_zAcaY_"
      }
    },
    {
      "cell_type": "markdown",
      "source": [
        "1. Метод is_repeatance (s), который принимает 1 аргумент s и возвращает True или False в зависимости от того, может ли текущая строку быть получена целым количеством повторов строки s. Вернуть False, если s не является строкой. Считать, что пустая строка не содержит повторов.\n",
        "\n",
        "2. Метод is_palindrom (), который возвращает True или False в зависимости от того, является ли строка [палиндромом](https://ru.wikipedia.org/wiki/Палиндром). Регистрами символов пренебрегать. Пустую строку считать палиндромом."
      ],
      "metadata": {
        "id": "GX99X81VchPW"
      }
    },
    {
      "cell_type": "code",
      "source": [
        "class SuperStr(str):\n",
        "  def __init__(self, string):\n",
        "    self.string = string\n",
        "\n",
        "  def is_repeatance(self, s):\n",
        "    for i in range(0, len(self.string)):\n",
        "      if str(i*s)!=self.string:\n",
        "        continue\n",
        "      return True\n",
        "    return False\n",
        "  def is_palindrom(self):\n",
        "    if self.string == self.string[::-1]: return True\n",
        "    return False"
      ],
      "metadata": {
        "id": "LtIAKDWFdEcr"
      },
      "execution_count": null,
      "outputs": []
    },
    {
      "cell_type": "code",
      "source": [
        "# Тесты\n",
        "\n",
        "s = SuperStr(\"123123123123\")\n",
        "print(s.is_repeatance(\"123\")) # True\n",
        "print(s.is_repeatance(\"123123\")) # True\n",
        "print(s.is_repeatance(\"123123123123\")) # True\n",
        "print(s.is_repeatance(\"12312\")) # False\n",
        "print(s.is_repeatance(123)) # False\n",
        "print(s.is_palindrom()) # False\n",
        "print(s) # 123123123123 (строка)\n",
        "print(int(s)) # 123123123123 (целое число)\n",
        "print(s + \"qwe\") # 123123123123qwe\n",
        "p = SuperStr(\"123_321\")\n",
        "print(p.is_palindrom()) # True"
      ],
      "metadata": {
        "id": "oRO3alwicoNp",
        "colab": {
          "base_uri": "https://localhost:8080/"
        },
        "outputId": "a0436f64-fb6f-4ebb-f17f-88022bd5260c"
      },
      "execution_count": null,
      "outputs": [
        {
          "output_type": "stream",
          "name": "stdout",
          "text": [
            "True\n",
            "True\n",
            "True\n",
            "False\n",
            "False\n",
            "False\n",
            "123123123123\n",
            "123123123123\n",
            "123123123123qwe\n",
            "True\n"
          ]
        }
      ]
    },
    {
      "cell_type": "markdown",
      "source": [
        "## **Задание №3. В коде ниже представлен класс преподавателей и класс студентов (вы можете взять этот код за основу или написать свой).**"
      ],
      "metadata": {
        "id": "m9EGwLY9jZbw"
      }
    },
    {
      "cell_type": "code",
      "source": [
        "class Student:\n",
        "    def __init__(self, name, surname, gender):\n",
        "        self.name = name\n",
        "        self.surname = surname\n",
        "        self.gender = gender\n",
        "        self.finished_courses = []\n",
        "        self.courses_in_progress = []\n",
        "        self.grades = {}\n",
        "\n",
        "    def add_courses(self, course_name):\n",
        "        self.finished_courses.append(course_name)\n",
        "\n",
        "\n",
        "class Mentor:\n",
        "    def __init__(self, name, surname):\n",
        "        self.name = name\n",
        "        self.surname = surname\n",
        "        self.courses_attached = []\n",
        "\n",
        "    def rate_hw(self, student, course, grade):\n",
        "        student.grades[course] = [grade]"
      ],
      "metadata": {
        "id": "PlqK9m7KrT6e"
      },
      "execution_count": null,
      "outputs": []
    },
    {
      "cell_type": "code",
      "source": [
        "best_student = Student('Ruoy', 'Eman', 'your_gender')\n",
        "cool_mentor = Mentor('Some', 'Buddy')\n",
        "cool_mentor.rate_hw(best_student, 'Python', 10)\n",
        "\n",
        "print(\"Имя студента: \", best_student.name)\n",
        "print(\"Имя преподавателя: \", cool_mentor.name)\n",
        "print(\"Оценки студента по курсам: \", best_student.grades)"
      ],
      "metadata": {
        "colab": {
          "base_uri": "https://localhost:8080/"
        },
        "id": "oNc1-dVaw3ee",
        "outputId": "7621e159-5ac4-48a7-8318-886013ba7692"
      },
      "execution_count": null,
      "outputs": [
        {
          "output_type": "stream",
          "name": "stdout",
          "text": [
            "Имя студента:  Ruoy\n",
            "Имя преподавателя:  Some\n",
            "Оценки студента по курсам:  {'Python': [10]}\n"
          ]
        }
      ]
    },
    {
      "cell_type": "markdown",
      "source": [
        "### **3.1. Наследование**"
      ],
      "metadata": {
        "id": "08FkYxULrxE-"
      }
    },
    {
      "cell_type": "markdown",
      "source": [
        "* Класс Mentor должен стать родительским классом для преподавателей. От него нужно реализовать наследование классов Lecturer (лекторы) и Reviewer (эксперты, проверяющие домашние задания).\n",
        "\n",
        "> Имя, фамилю и список закрепленных курсов логично реализовать на уровне родительского класса."
      ],
      "metadata": {
        "id": "YNjsCv5ItOii"
      }
    },
    {
      "cell_type": "code",
      "source": [
        "class Student:\n",
        "    def __init__(self, name, surname, gender):\n",
        "        self.name = name\n",
        "        self.surname = surname\n",
        "        self.gender = gender\n",
        "        self.finished_courses = []\n",
        "        self.courses_in_progress = []\n",
        "        self.grades = {}\n",
        "\n",
        "    def add_courses(self, course_name):\n",
        "        self.finished_courses.append(course_name)\n",
        "\n",
        "\n",
        "class Mentor:\n",
        "    def __init__(self, name, surname):\n",
        "        self.name = name\n",
        "        self.surname = surname\n",
        "        self.courses_attached = []\n",
        "\n",
        "    def rate_hw(self, student, course, grade):\n",
        "        student.grades[course] = [grade]\n",
        "\n",
        "class Lecturer(Mentor):\n",
        "  pass\n",
        "\n",
        "class Reviewer(Mentor):\n",
        "  pass\n",
        "\n",
        "best_student = Student('Ruoy', 'Eman', 'your_gender')\n",
        "cool_mentor = Mentor('Some', 'Buddy')\n",
        "cool_mentor.rate_hw(best_student, 'Python', 10)\n",
        "\n",
        "print(\"Имя студента: \", best_student.name)\n",
        "print(\"Имя преподавателя: \", cool_mentor.name)\n",
        "print(\"Оценки студента по курсам: \", best_student.grades)"
      ],
      "metadata": {
        "id": "1quZPRZKtIoc",
        "colab": {
          "base_uri": "https://localhost:8080/"
        },
        "outputId": "2511f8eb-e9ea-42bb-f915-d34162da17be"
      },
      "execution_count": null,
      "outputs": [
        {
          "output_type": "stream",
          "name": "stdout",
          "text": [
            "Имя студента:  Ruoy\n",
            "Имя преподавателя:  Some\n",
            "Оценки студента по курсам:  {'Python': [10]}\n"
          ]
        }
      ]
    },
    {
      "cell_type": "markdown",
      "source": [
        "### **3.2. Атрибуты и взаимодействие классов**"
      ],
      "metadata": {
        "id": "oL8kB-uUtH5K"
      }
    },
    {
      "cell_type": "markdown",
      "source": [
        "* Реализуйте возможность проставления оценок студентам только Reviewer-ам (реализуйте такой метод).\n",
        "\n",
        "* Реализуйте метод выставления оценок лекторам у класса Student (оценки по 10-балльной шкале, хранятся в атрибуте-словаре у Lecturer, в котором ключи – названия курсов, а значения – списки оценок). Лектор при этом должен быть закреплен за тем курсом, на который записан студент (реализовать проверку)."
      ],
      "metadata": {
        "id": "ddcuJFCksWsY"
      }
    },
    {
      "cell_type": "code",
      "source": [
        "class Mentor:\n",
        "    def __init__(self, name, surname):\n",
        "        self.name = name\n",
        "        self.surname = surname\n",
        "        self.courses_attached = []\n",
        "\n",
        "class Lecturer(Mentor):\n",
        "    def __init__(self, name, surname):\n",
        "        Mentor.__init__(self, name, surname)\n",
        "        self.courses_attached = []\n",
        "        self.grades = {}\n",
        "\n",
        "class Reviewer(Mentor):\n",
        "    def __init__(self, name, surname):\n",
        "        Mentor.__init__(self, name, surname)\n",
        "        self.courses_attached = []\n",
        "\n",
        "    def rate_hw(self, student, course, grade):\n",
        "        if course in student.courses_in_progress:\n",
        "            if course in student.grades:\n",
        "                student.grades[course].append(grade)\n",
        "            else:\n",
        "                student.grades[course] = [grade]\n",
        "        else:\n",
        "            print(f\"{self.name} не может поставить оценку, так как студент не в данном курсе.\")\n",
        "\n",
        "class Student:\n",
        "    def __init__(self, name, surname, gender):\n",
        "        self.name = name\n",
        "        self.surname = surname\n",
        "        self.gender = gender\n",
        "        self.finished_courses = []\n",
        "        self.courses_in_progress = []\n",
        "        self.grades = {}\n",
        "\n",
        "    def add_courses(self, course_name):\n",
        "        self.finished_courses.append(course_name)\n",
        "\n",
        "    def add_courses_in_progress(self, course_name):\n",
        "        self.courses_in_progress.append(course_name)\n",
        "\n",
        "    def rate_lecturer(self, lecturer, course, grade):\n",
        "        if course in self.courses_in_progress and course in lecturer.courses_attached:\n",
        "            if course in lecturer.grades:\n",
        "                lecturer.grades[course].append(grade)\n",
        "            else:\n",
        "                lecturer.grades[course] = [grade]\n",
        "        else:\n",
        "            print(f\"Лектор {lecturer.name} не может получить оценку за курс {course}.\")"
      ],
      "metadata": {
        "id": "U30yyvuirv6H"
      },
      "execution_count": null,
      "outputs": []
    },
    {
      "cell_type": "markdown",
      "source": [
        "### **3.3. Полиморфизм и магические методы**"
      ],
      "metadata": {
        "id": "i6PrwEBSu39u"
      }
    },
    {
      "cell_type": "markdown",
      "source": [
        "Перегрузите магический метод \\_\\_str__ у всех классов.\n",
        "У проверяющих он должен выводить информацию в следующем виде:\n",
        "\n",
        "\n",
        "\n",
        "```\n",
        "print(some_reviewer)\n",
        "Имя: Some\n",
        "Фамилия: Buddy\n",
        "```\n",
        "\n",
        "У лекторов:\n",
        "\n",
        "\n",
        "\n",
        "```\n",
        "print(some_lecturer)\n",
        "Имя: Some\n",
        "Фамилия: Buddy\n",
        "Средняя оценка за лекции: 9.9\n",
        "```\n",
        "\n",
        "А у студентов так:\n",
        "\n",
        "\n",
        "\n",
        "```\n",
        "print(some_student)\n",
        "Имя: Ruoy\n",
        "Фамилия: Eman\n",
        "Средняя оценка за домашние задания: 9.9\n",
        "Курсы в процессе изучения: Python, Git\n",
        "Завершенные курсы: Введение в программирование\n",
        "```\n",
        "\n",
        "\n",
        "\n"
      ],
      "metadata": {
        "id": "GvmtjlnmvF8b"
      }
    },
    {
      "cell_type": "code",
      "source": [
        "class Mentor:\n",
        "    def __init__(self, name, surname):\n",
        "        self.name = name\n",
        "        self.surname = surname\n",
        "        self.courses_attached = []\n",
        "\n",
        "    def __str__(self):\n",
        "        return f\"Имя: {self.name}\\nФамилия: {self.surname}\\nУ проверяющих\"\n",
        "\n",
        "class Lecturer(Mentor):\n",
        "    def __init__(self, name, surname):\n",
        "        Mentor.__init__(self, name, surname)\n",
        "        self.courses_attached = []\n",
        "        self.grades = {}\n",
        "\n",
        "    def __str__(self):\n",
        "        avg_grade = self.calculate_average_grade()\n",
        "        return f\"Имя: {self.name}\\nФамилия: {self.surname}\\nСредняя оценка за лекции: {avg_grade:.1f}\"\n",
        "\n",
        "    def calculate_average_grade(self):\n",
        "        total_grades = 0\n",
        "        count = 0\n",
        "        for course in self.grades.values():\n",
        "            total_grades += sum(course)\n",
        "            count += len(course)\n",
        "        return total_grades / count if count > 0 else 0\n",
        "\n",
        "class Reviewer(Mentor):\n",
        "    def __init__(self, name, surname):\n",
        "        Mentor.__init__(self, name, surname)\n",
        "        self.courses_attached = []\n",
        "\n",
        "    def __str__(self):\n",
        "        return f\"Имя: {self.name}\\nФамилия: {self.surname}\\n\"\n",
        "\n",
        "    def rate_hw(self, student, course, grade):\n",
        "        if course in student.courses_in_progress:\n",
        "            if course in student.grades:\n",
        "                student.grades[course].append(grade)\n",
        "            else:\n",
        "                student.grades[course] = [grade]\n",
        "        else:\n",
        "            print(f\"{self.name} не может поставить оценку за курс {course}, так как студент не учит этот курс.\")\n",
        "\n",
        "class Student:\n",
        "    def __init__(self, name, surname, gender):\n",
        "        self.name = name\n",
        "        self.surname = surname\n",
        "        self.gender = gender\n",
        "        self.finished_courses = []\n",
        "        self.courses_in_progress = []\n",
        "        self.grades = {}\n",
        "\n",
        "    def add_courses(self, course_name):\n",
        "        self.finished_courses.append(course_name)\n",
        "\n",
        "    def add_courses_in_progress(self, course_name):\n",
        "        self.courses_in_progress.append(course_name)\n",
        "\n",
        "    def rate_lecturer(self, lecturer, course, grade):\n",
        "        if course in self.courses_in_progress and course in lecturer.courses_attached:\n",
        "            if course in lecturer.grades:\n",
        "                lecturer.grades[course].append(grade)\n",
        "            else:\n",
        "                lecturer.grades[course] = [grade]\n",
        "        else:\n",
        "            print(f\"Лектор {lecturer.name} не может получить оценку за курс {course}, так как либо студент не учит этот курс, либо лектор не прикреплен к этому курсу.\")\n",
        "\n",
        "    def __str__(self):\n",
        "        avg_grade = self.calculate_average_grade()\n",
        "        courses_in_progress = ', '.join(self.courses_in_progress)\n",
        "        finished_courses = ', '.join(self.finished_courses)\n",
        "        return (f\"Имя: {self.name}\\nФамилия: {self.surname}\\n\"\n",
        "                f\"Средняя оценка за домашние задания: {avg_grade:.1f}\\n\"\n",
        "                f\"Курсы в процессе изучения: {courses_in_progress}\\n\"\n",
        "                f\"Завершенные курсы: {finished_courses}\")\n",
        "\n",
        "    def calculate_average_grade(self):\n",
        "        total_grades = 0\n",
        "        count = 0\n",
        "        for grades in self.grades.values():\n",
        "            total_grades += sum(grades)\n",
        "            count += len(grades)\n",
        "        return total_grades / count if count > 0 else 0\n",
        "\n",
        "best_student = Student('Ruoy', 'Eman', 'your_gender')\n",
        "best_student.add_courses_in_progress(\"Python\")\n",
        "best_student.add_courses_in_progress(\"Git\")\n",
        "best_student.add_courses(\"Введение в программирование\")\n",
        "\n",
        "cool_mentor = Reviewer('Some', 'Buddy')\n",
        "cool_mentor.rate_hw(best_student, 'Python', 10)\n",
        "\n",
        "normal_lecturer = Lecturer('John', 'Doe')\n",
        "normal_lecturer.courses_attached.append('Python')\n",
        "normal_lecturer.grades['Python'] = [9, 8, 10]\n",
        "\n",
        "best_student.rate_lecturer(normal_lecturer, 'Python', 8)\n",
        "\n",
        "print(best_student)\n",
        "print(normal_lecturer)\n",
        "print(cool_mentor)"
      ],
      "metadata": {
        "id": "gCJAL_EmwU0b"
      },
      "execution_count": null,
      "outputs": []
    },
    {
      "cell_type": "markdown",
      "source": [
        "**Реализуйте перегрузку других магических методов на Ваш выбор (не менее трёх), руководствуясь по смыслу контекстом представленных классов (студенты, преподаватели, оценки и т.д.)**"
      ],
      "metadata": {
        "id": "1DNE4TE3vfYI"
      }
    },
    {
      "cell_type": "code",
      "source": [
        "class Mentor:\n",
        "    def __init__(self, name, surname):\n",
        "        self.name = name\n",
        "        self.surname = surname\n",
        "        self.courses_attached = []\n",
        "\n",
        "    def __str__(self):\n",
        "        return f\"Имя: {self.name}\\nФамилия: {self.surname}\\nУ лекторов:\"\n",
        "\n",
        "class Lecturer(Mentor):\n",
        "    def __init__(self, name, surname):\n",
        "        super().__init__(name, surname)\n",
        "        self.grades = {}  # Оценки по курсам\n",
        "\n",
        "    def __str__(self):\n",
        "        average_grade = self.get_average_grade()\n",
        "        return f\"Имя: {self.name}\\nФамилия: {self.surname}\\nСредняя оценка за лекции: {average_grade}\"\n",
        "\n",
        "    def get_average_grade(self):\n",
        "        total = 0\n",
        "        count = 0\n",
        "        for grades in self.grades.values():\n",
        "            total += sum(grades)\n",
        "            count += len(grades)\n",
        "        return total / count if count > 0 else 0\n",
        "\n",
        "    def __lt__(self, other):\n",
        "        if isinstance(other, Lecturer):\n",
        "            return self.get_average_grade() < other.get_average_grade()\n",
        "        return False\n",
        "\n",
        "    def __add__(self, other):\n",
        "        if isinstance(other, Lecturer):\n",
        "            new_lecturer = Lecturer(f\"{self.name} & {other.name}\", f\"{self.surname} & {other.surname}\")\n",
        "            new_lecturer.grades = {course: self.grades.get(course, []) + other.grades.get(course, []) for course in set(self.grades.keys()).union(other.grades.keys())}\n",
        "            return new_lecturer\n",
        "        return NotImplemented\n",
        "\n",
        "\n",
        "class Reviewer(Mentor):\n",
        "    def __init__(self, name, surname):\n",
        "        super().__init__(name, surname)\n",
        "\n",
        "    def __str__(self):\n",
        "        return f\"Имя: {self.name}\\nФамилия: {self.surname}\\nУ экспертов:\"\n",
        "\n",
        "    def rate_hw(self, student, course, grade):\n",
        "        if course in student.courses_in_progress:\n",
        "            if course in student.grades:\n",
        "                student.grades[course].append(grade)\n",
        "            else:\n",
        "                student.grades[course] = [grade]\n",
        "\n",
        "\n",
        "class Student:\n",
        "    def __init__(self, name, surname, gender):\n",
        "        self.name = name\n",
        "        self.surname = surname\n",
        "        self.gender = gender\n",
        "        self.finished_courses = []\n",
        "        self.courses_in_progress = []\n",
        "        self.grades = {}\n",
        "\n",
        "    def __str__(self):\n",
        "        average_grade = self.get_average_grade()\n",
        "        return f\"Имя: {self.name}\\nФамилия: {self.surname}\\nСредняя оценка за домашние задания: {average_grade}\\nКурсы в процессе изучения: {', '.join(self.courses_in_progress)}\\nЗавершенные курсы: {', '.join(self.finished_courses)}\"\n",
        "\n",
        "    def get_average_grade(self):\n",
        "        total = 0\n",
        "        count = 0\n",
        "        for grades in self.grades.values():\n",
        "            total += sum(grades)\n",
        "            count += len(grades)\n",
        "        return total / count if count > 0 else 0\n",
        "\n",
        "    def __eq__(self, other):\n",
        "        if isinstance(other, Student):\n",
        "            return self.name == other.name and self.surname == other.surname\n",
        "        return False\n",
        "\n",
        "    def __lt__(self, other):\n",
        "        if isinstance(other, Student):\n",
        "            return self.get_average_grade() < other.get_average_grade()\n",
        "        return False\n",
        "\n",
        "    def __add__(self, other):\n",
        "        if isinstance(other, Student):\n",
        "            combined_student = Student(f\"{self.name} & {other.name}\", f\"{self.surname} & {other.surname}\", \"Unknown\")\n",
        "            combined_student.grades = {course: self.grades.get(course, []) + other.grades.get(course, []) for course in set(self.grades.keys()).union(other.grades.keys())}\n",
        "            return combined_student\n",
        "        return NotImplemented\n",
        "\n",
        "    def add_courses_in_progress(self, course_name):\n",
        "        self.courses_in_progress.append(course_name)\n",
        "\n",
        "    def add_courses(self, course_name):\n",
        "        self.finished_courses.append(course_name)\n",
        "\n",
        "student1 = Student(\"Ruoy\", \"Eman\", \"male\")\n",
        "student2 = Student(\"Alice\", \"Johnson\", \"female\")\n",
        "student1.add_courses_in_progress(\"Python\")\n",
        "student1.grades[\"Python\"] = [9, 10, 6]\n",
        "student2.add_courses_in_progress(\"Python\")\n",
        "student2.grades[\"Python\"] = [10, 8, 6]\n",
        "\n",
        "lecturer1 = Lecturer(\"Some\", \"Buddy\")\n",
        "lecturer1.grades[\"Python\"] = [9, 10, 9]\n",
        "lecturer2 = Lecturer(\"John\", \"Doe\")\n",
        "lecturer2.grades[\"Python\"] = [10, 8, 7]\n",
        "\n",
        "reviewer = Reviewer(\"Kate\", \"Smith\")\n",
        "\n",
        "print(student1)\n",
        "print(student2)\n",
        "print(lecturer1)\n",
        "print(lecturer2)\n",
        "\n",
        "print(\"student1 < student2:\", student1 < student2)\n",
        "print(\"lecturer1 < lecturer2:\", lecturer1 < lecturer2)\n",
        "\n",
        "combined_student = student1 + student2\n",
        "print(\"Combined Student:\", combined_student)\n",
        "\n",
        "combined_lecturer = lecturer1 + lecturer2\n",
        "print(\"Combined Lecturer:\", combined_lecturer)"
      ],
      "metadata": {
        "id": "WNCf9PPMu4Gv",
        "outputId": "c34dc5fb-0363-4eb6-a76a-af2d13b6d628",
        "colab": {
          "base_uri": "https://localhost:8080/",
          "height": 211
        }
      },
      "execution_count": null,
      "outputs": [
        {
          "output_type": "error",
          "ename": "AttributeError",
          "evalue": "'Course' object has no attribute 'get_lecturer'",
          "traceback": [
            "\u001b[0;31m---------------------------------------------------------------------------\u001b[0m",
            "\u001b[0;31mAttributeError\u001b[0m                            Traceback (most recent call last)",
            "\u001b[0;32m<ipython-input-19-bbba4708ed28>\u001b[0m in \u001b[0;36m<cell line: 1>\u001b[0;34m()\u001b[0m\n\u001b[0;32m----> 1\u001b[0;31m \u001b[0;32mif\u001b[0m \u001b[0mcourse_1\u001b[0m\u001b[0;34m.\u001b[0m\u001b[0mget_lecturer\u001b[0m\u001b[0;34m(\u001b[0m\u001b[0;34m)\u001b[0m \u001b[0;34m==\u001b[0m \u001b[0mcourse_2\u001b[0m \u001b[0;34m:\u001b[0m\u001b[0;34m\u001b[0m\u001b[0;34m\u001b[0m\u001b[0m\n\u001b[0m\u001b[1;32m      2\u001b[0m   \u001b[0mprint\u001b[0m\u001b[0;34m(\u001b[0m\u001b[0;34m\"Совпадение объектов\"\u001b[0m\u001b[0;34m)\u001b[0m\u001b[0;34m\u001b[0m\u001b[0;34m\u001b[0m\u001b[0m\n\u001b[1;32m      3\u001b[0m \u001b[0;32melse\u001b[0m\u001b[0;34m:\u001b[0m\u001b[0;34m\u001b[0m\u001b[0;34m\u001b[0m\u001b[0m\n\u001b[1;32m      4\u001b[0m   \u001b[0mprint\u001b[0m\u001b[0;34m(\u001b[0m\u001b[0;34m\"Различие объектов\"\u001b[0m\u001b[0;34m)\u001b[0m\u001b[0;34m\u001b[0m\u001b[0;34m\u001b[0m\u001b[0m\n\u001b[1;32m      5\u001b[0m \u001b[0;34m\u001b[0m\u001b[0m\n",
            "\u001b[0;31mAttributeError\u001b[0m: 'Course' object has no attribute 'get_lecturer'"
          ]
        }
      ]
    },
    {
      "cell_type": "markdown",
      "source": [
        "### **3.4. Тестирование**\n",
        "\n",
        "Создайте по 2 экземпляра каждого класса, вызовите все созданные методы, а также реализуйте две функции:\n",
        "\n",
        "* для подсчета средней оценки за домашние задания по всем студентам в рамках конкретного курса (в качестве аргументов принимаем список студентов и название курса);\n",
        "* для подсчета средней оценки за лекции всех лекторов в рамках курса (в качестве аргумента принимаем список лекторов и название курса)."
      ],
      "metadata": {
        "id": "X8xvLNT6u4Nn"
      }
    },
    {
      "cell_type": "code",
      "source": [
        "class Mentor:\n",
        "    def __init__(self, name, surname):\n",
        "        self.name = name\n",
        "        self.surname = surname\n",
        "        self.courses_attached = []\n",
        "\n",
        "    def __str__(self):\n",
        "        return f\"Имя: {self.name}\\nФамилия: {self.surname}\\nУ лекторов:\"\n",
        "\n",
        "class Lecturer(Mentor):\n",
        "    def __init__(self, name, surname):\n",
        "        super().__init__(name, surname)\n",
        "        self.grades = {}\n",
        "\n",
        "    def __str__(self):\n",
        "        average_grade = self.get_average_grade()\n",
        "        return f\"Имя: {self.name}\\nФамилия: {self.surname}\\nСредняя оценка за лекции: {average_grade}\"\n",
        "\n",
        "    def get_average_grade(self):\n",
        "        total = 0\n",
        "        count = 0\n",
        "        for grades in self.grades.values():\n",
        "            total += sum(grades)\n",
        "            count += len(grades)\n",
        "        return total / count if count > 0 else 0\n",
        "\n",
        "    def __lt__(self, other):\n",
        "        if isinstance(other, Lecturer):\n",
        "            return self.get_average_grade() < other.get_average_grade()\n",
        "        return False\n",
        "\n",
        "    def __add__(self, other):\n",
        "        if isinstance(other, Lecturer):\n",
        "            new_lecturer = Lecturer(f\"{self.name} & {other.name}\", f\"{self.surname} & {other.surname}\")\n",
        "            new_lecturer.grades = {course: self.grades.get(course, []) + other.grades.get(course, []) for course in set(self.grades.keys()).union(other.grades.keys())}\n",
        "            return new_lecturer\n",
        "        return NotImplemented\n",
        "\n",
        "class Reviewer(Mentor):\n",
        "    def __init__(self, name, surname):\n",
        "        super().__init__(name, surname)\n",
        "\n",
        "    def __str__(self):\n",
        "        return f\"Имя: {self.name}\\nФамилия: {self.surname}\\nУ экспертов:\"\n",
        "\n",
        "    def rate_hw(self, student, course, grade):\n",
        "        if course in student.courses_in_progress:\n",
        "            if course in student.grades:\n",
        "                student.grades[course].append(grade)\n",
        "            else:\n",
        "                student.grades[course] = [grade]\n",
        "\n",
        "class Student:\n",
        "    def __init__(self, name, surname, gender):\n",
        "        self.name = name\n",
        "        self.surname = surname\n",
        "        self.gender = gender\n",
        "        self.finished_courses = []\n",
        "        self.courses_in_progress = []\n",
        "        self.grades = {}\n",
        "\n",
        "    def __str__(self):\n",
        "        average_grade = self.get_average_grade()\n",
        "        return f\"Имя: {self.name}\\nФамилия: {self.surname}\\nСредняя оценка за домашние задания: {average_grade}\\nКурсы в процессе изучения: {', '.join(self.courses_in_progress)}\\nЗавершенные курсы: {', '.join(self.finished_courses)}\"\n",
        "\n",
        "    def get_average_grade(self):\n",
        "        total = 0\n",
        "        count = 0\n",
        "        for grades in self.grades.values():\n",
        "            total += sum(grades)\n",
        "            count += len(grades)\n",
        "        return total / count if count > 0 else 0\n",
        "\n",
        "    def __eq__(self, other):\n",
        "        if isinstance(other, Student):\n",
        "            return self.name == other.name and self.surname == other.surname\n",
        "        return False\n",
        "\n",
        "    def __lt__(self, other):\n",
        "        if isinstance(other, Student):\n",
        "            return self.get_average_grade() < other.get_average_grade()\n",
        "        return False\n",
        "\n",
        "    def __add__(self, other):\n",
        "        if isinstance(other, Student):\n",
        "            combined_student = Student(f\"{self.name} & {other.name}\", f\"{self.surname} & {other.surname}\", \"Unknown\")\n",
        "            combined_student.grades = {course: self.grades.get(course, []) + other.grades.get(course, []) for course in set(self.grades.keys()).union(other.grades.keys())}\n",
        "            return combined_student\n",
        "        return NotImplemented\n",
        "\n",
        "    def add_courses_in_progress(self, course_name):\n",
        "        self.courses_in_progress.append(course_name)\n",
        "\n",
        "    def add_courses(self, course_name):\n",
        "        self.finished_courses.append(course_name)\n",
        "\n",
        "student1 = Student(\"Ruoy\", \"Eman\", \"male\")\n",
        "student1.add_courses_in_progress(\"Python\")\n",
        "student1.grades[\"Python\"] = [9, 10, 8]\n",
        "\n",
        "student2 = Student(\"Alice\", \"Johnson\", \"female\")\n",
        "student2.add_courses_in_progress(\"Python\")\n",
        "student2.grades[\"Python\"] = [7, 8, 6]\n",
        "\n",
        "lecturer1 = Lecturer(\"Some\", \"Buddy\")\n",
        "lecturer1.grades[\"Python\"] = [9, 8, 9]\n",
        "\n",
        "lecturer2 = Lecturer(\"John\", \"Doe\")\n",
        "lecturer2.grades[\"Python\"] = [8, 8, 7]\n",
        "\n",
        "reviewer1 = Reviewer(\"Kate\", \"Smith\")\n",
        "reviewer1.rate_hw(student1, \"Python\", 9)\n",
        "reviewer1.rate_hw(student2, \"Python\", 7)\n",
        "\n",
        "reviewer2 = Reviewer(\"Tom\", \"Brown\")\n",
        "reviewer2.rate_hw(student1, \"Python\", 8)\n",
        "reviewer2.rate_hw(student2, \"Python\", 6)\n",
        "\n",
        "print(student1)\n",
        "print(student2)\n",
        "print(lecturer1)\n",
        "print(lecturer2)\n",
        "print(reviewer1)\n",
        "print(reviewer2)\n",
        "\n",
        "def average_grade_students(students, course):\n",
        "    total = 0\n",
        "    count = 0\n",
        "    for student in students:\n",
        "        if course in student.grades:\n",
        "            total += sum(student.grades[course])\n",
        "            count += len(student.grades[course])\n",
        "    return total / count if count > 0 else 0\n",
        "def average_grade_lecturers(lecturers, course):\n",
        "    total = 0\n",
        "    count = 0\n",
        "    for lecturer in lecturers:\n",
        "        if course in lecturer.grades:\n",
        "            total += sum(lecturer.grades[course])\n",
        "            count += len(lecturer.grades[course])\n",
        "    return total / count if count > 0 else 0\n",
        "students = [student1, student2]\n",
        "lecturers = [lecturer1, lecturer2]\n",
        "\n",
        "print(f\"Средняя оценка за домашние задания по курсу 'Python': {average_grade_students(students, 'Python')}\")\n",
        "print(f\"Средняя оценка за лекции по курсу 'Python': {average_grade_lecturers(lecturers, 'Python')}\")"
      ],
      "metadata": {
        "id": "uh8n08fdu4V_"
      },
      "execution_count": null,
      "outputs": []
    },
    {
      "cell_type": "markdown",
      "source": [
        "## **Задание №4. Перегрузка операторов с помощью магических методов**\n"
      ],
      "metadata": {
        "id": "ehfo80anwJUM"
      }
    },
    {
      "cell_type": "markdown",
      "source": [
        "### **Цель задания:**\n",
        "\n"
      ],
      "metadata": {
        "id": "i_KsKg4awZOJ"
      }
    },
    {
      "cell_type": "markdown",
      "source": [
        "Разработать класс `Fraction` для работы с рациональными числами (дробями), реализовав перегрузку стандартных операторов через переопределение соответствующих магических методов. Ваша задача — обеспечить класс `Fraction` функциональностью, демонстрируемой в приведенном примере кода."
      ],
      "metadata": {
        "id": "JvIIB641watq"
      }
    },
    {
      "cell_type": "markdown",
      "source": [
        "### **Описание задания:**\n",
        "\n"
      ],
      "metadata": {
        "id": "BZ9kMLrYwcW_"
      }
    },
    {
      "cell_type": "markdown",
      "source": [
        "Создайте класс `Fraction`, который представляет собой обыкновенную дробь с числителем и знаменателем. Перегрузите основные арифметические операторы для выполнения операций над дробями, а также операторы сравнения. Обеспечьте возможность преобразования дроби в число с плавающей точкой и обратную операцию. Реализуйте обработку исключений при некорректных данных. Предоставьте понятное строковое и официальное представление дроби."
      ],
      "metadata": {
        "id": "6Qt56A-Bwe87"
      }
    },
    {
      "cell_type": "markdown",
      "source": [
        "**Требования к заданию:**\n"
      ],
      "metadata": {
        "id": "1lv3NnB_whqP"
      }
    },
    {
      "cell_type": "markdown",
      "source": [
        "\n",
        "1. **Класс `Fraction` должен:**\n",
        "\n",
        "   - Инициализироваться двумя целыми числами: числителем и знаменателем.\n",
        "   - Обрабатывать ситуацию когда знаменатель равен нулю, а именно выводить сообщение `\"Знаменатель не может быть нулем\"`.\n",
        "   - Упрощать дроби до несократимых при создании и после каждой арифметической операции.\n",
        "\n",
        "2. **Перегрузить следующие операторы путем переопределения магических методов:**\n",
        "\n",
        "   - **Сложение `+`** (`__add__`): сложение двух дробей, возвращает новую дробь.\n",
        "   - **Вычитание `-`** (`__sub__`): вычитание одной дроби из другой, возвращает новую дробь.\n",
        "   - **Умножение `*`** (`__mul__`): умножение двух дробей, возвращает новую дробь.\n",
        "   - **Деление `/`** (`__truediv__`): деление одной дроби на другую, возвращает новую дробь.\n",
        "   - **Равенство `==`** (`__eq__`): проверка равенства двух дробей.\n",
        "   - **Сравнения `>`, `<`, `>=`, `<=`**: сравнение дробей по их значению, реализовать методы `__lt__`, `__le__`, `__gt__`, `__ge__`.\n",
        "\n",
        "3. **Реализовать преобразование типов:**\n",
        "\n",
        "   - **Метод `__float__`**: преобразование дроби в число с плавающей точкой.\n",
        "\n",
        "4. **Дополнительные методы класса:**\n",
        "\n",
        "   - **`reciprocal()`**: возвращает новую дробь, обратную данной (числитель и знаменатель меняются местами).\n",
        "   - **Строковое представление** (`__str__`): возвращает строку вида `\"числитель/знаменатель\"`. Если знаменатель равен 1, возвращает только числитель в виде строки.\n",
        "   - **Официальное представление** (`__repr__`): возвращает строку вида `\"Fraction(числитель, знаменатель)\"`.\n",
        "\n",
        "5. **Обработка исключений:**\n",
        "\n",
        "   - При попытке создать дробь с нулевым знаменателем выводить в консоль сообщение `ValueError`.\n",
        "   - При попытке деления на нулевую дробь, выводить в консоль сообщение `ZeroDivisionError`.\n",
        "\n",
        "6. **Тестирование:**\n",
        "\n",
        "   - Написать код, демонстрирующий работу всех реализованных методов и операторов, используя примеры, приведенные ниже.\n",
        "   - Обеспечить корректную обработку исключений и вывод соответствующих сообщений.\n",
        "\n",
        "\n",
        "\n"
      ],
      "metadata": {
        "id": "4tJX8suPv0TY"
      }
    },
    {
      "cell_type": "code",
      "source": [
        "def find_delimiter(numerator: int, denominator: int):\n",
        "  delimiter = 2\n",
        "  while delimiter < numerator or delimiter < denominator:\n",
        "    if numerator % delimiter == 0 and denominator % delimiter == 0:\n",
        "      return delimiter\n",
        "\n",
        "    delimiter += 1\n",
        "\n",
        "  return delimiter\n",
        "\n",
        "\n",
        "def cut(numerator: int, denominator: int):\n",
        "\n",
        "  if denominator == 0:\n",
        "    raise ValueError(\"Denominator cannot be 0\")\n",
        "\n",
        "  delimiter = find_delimiter(numerator,denominator)\n",
        "\n",
        "  value_numerator, value_denominator = numerator, denominator\n",
        "  while value_numerator % delimiter == 0 and value_denominator % delimiter == 0:\n",
        "    value_numerator //= delimiter\n",
        "    value_denominator //= delimiter\n",
        "\n",
        "  return Fraction(int(value_numerator), int(value_denominator))\n",
        "\n",
        "\n",
        "class Fraction:\n",
        "  def __init__(self, numerator: int, denominator: int):\n",
        "\n",
        "    if denominator == 0:\n",
        "      raise ValueError('Знаменатель не может быть нулем')\n",
        "\n",
        "    self.numerator = numerator\n",
        "    self.denominator = denominator\n",
        "\n",
        "  def reciprocal(self):\n",
        "    return Fraction(self.denominator, self.numerator)\n",
        "\n",
        "  def __str__(self):\n",
        "    return f'{self.numerator}/{self.denominator}'\n",
        "\n",
        "  def __lt__(self, other):\n",
        "    if self.denominator == other.get_denominator():\n",
        "      return self.numerator < other.get_numerator()\n",
        "\n",
        "    return self.numerator * other.get_denominator() < other.get_numerator() * self.denominator\n",
        "\n",
        "  def __le__(self, other):\n",
        "    if self.denominator == other.get_denominator():\n",
        "      return self.numerator <= other.get_numerator()\n",
        "\n",
        "    return self.numerator * other.get_denominator() <= other.get_numerator() * self.denominator\n",
        "\n",
        "  def __float__(self):\n",
        "    return self.numerator/self.denominator\n",
        "\n",
        "  def __gt__(self, other):\n",
        "    if self.denominator == other.get_denominator():\n",
        "      return self.numerator > other.get_numerator()\n",
        "\n",
        "    return self.numerator * other.get_denominator() > other.get_numerator() * self.denominator\n",
        "\n",
        "  def __ge__(self, other):\n",
        "    if self.denominator == other.get_denominator():\n",
        "      return self.numerator >= other.get_numerator()\n",
        "\n",
        "    return self.numerator * other.get_denominator() >= other.get_numerator() * self.denominator\n",
        "\n",
        "  def __add__(self, other):\n",
        "    if self.denominator == other.get_denominator():\n",
        "      return cut(self.numerator + other.get_numerator(), self.denominator)\n",
        "\n",
        "    return cut(self.numerator * other.get_denominator() + other.get_numerator() * self.denominator, self.denominator * other.get_denominator())\n",
        "\n",
        "\n",
        "  def from_float(value: float):\n",
        "    base = int('1' + ('0' * len(str(value).split('.')[1])))\n",
        "    return cut(value * base, base)\n",
        "\n",
        "\n",
        "  def __sub__(self, other):\n",
        "    if self.denominator == other.get_denominator():\n",
        "      return cut(self.numerator - other.get_numerator(), self.denominator)\n",
        "\n",
        "    return cut(self.numerator * other.get_denominator() - other.get_numerator() * self.denominator, self.denominator * other.get_denominator())\n",
        "\n",
        "  def __mul__(self, other):\n",
        "    return cut(self.numerator * other.get_numerator(), self.denominator * other.get_denominator())\n",
        "\n",
        "  def __truediv__(self, other):\n",
        "    return cut(self.numerator * other.denominator, other.numerator * self.denominator)\n",
        "\n",
        "  def __eq__(self, other):\n",
        "\n",
        "    first_fraction = cut(self.numerator, self.denominator)\n",
        "    second_fraction = cut(other.get_numerator(), other.get_denominator())\n",
        "\n",
        "    return first_fraction.get_numerator() == second_fraction.get_numerator() and first_fraction.get_denominator() == second_fraction.get_denominator()\n",
        "\n",
        "  def get_numerator(self):\n",
        "    return self.numerator\n",
        "\n",
        "  def get_denominator(self):\n",
        "    return self.denominator\n",
        "\n",
        "  def __repr__(self):\n",
        "    return f'Fraction({self.numerator}, {self.denominator})'"
      ],
      "metadata": {
        "id": "58JlCtFkxpmU"
      },
      "execution_count": null,
      "outputs": []
    },
    {
      "cell_type": "markdown",
      "source": [
        "**Тесты для класса `Fraction`:**\n"
      ],
      "metadata": {
        "id": "N5tZxFvIxdIy"
      }
    },
    {
      "cell_type": "code",
      "source": [
        "# Создание дробей\n",
        "f1 = Fraction(3, 4)\n",
        "f2 = Fraction(5, 6)\n",
        "\n",
        "# Сложение дробей\n",
        "f3 = f1 + f2\n",
        "print(f3)  # Ожидаемый вывод: 19/12\n",
        "\n",
        "# Вычитание дробей\n",
        "f4 = f1 - f2\n",
        "print(f4)  # Ожидаемый вывод: -1/12\n",
        "\n",
        "# Умножение дробей\n",
        "f5 = f1 * f2\n",
        "print(f5)  # Ожидаемый вывод: 5/8\n",
        "\n",
        "# Деление дробей\n",
        "f6 = f1 / f2\n",
        "print(f6)  # Ожидаемый вывод: 9/10\n",
        "\n",
        "# Проверка равенства\n",
        "print(f1 == Fraction(6, 8))   # Ожидаемый вывод: True\n",
        "\n",
        "# Сравнение дробей\n",
        "print(f1 > f2)    # Ожидаемый вывод: False\n",
        "print(f1 < f2)    # Ожидаемый вывод: True\n",
        "\n",
        "# Преобразование к float\n",
        "print(float(f1))  # Ожидаемый вывод: 0.75\n",
        "\n",
        "# Обратная дробь\n",
        "f7 = f1.reciprocal()\n",
        "print(f7)         # Ожидаемый вывод: 4/3\n",
        "\n",
        "# Создание дроби из float\n",
        "f8 = Fraction.from_float(0.75)\n",
        "print(f8)         # Ожидаемый вывод: 3/4\n",
        "\n",
        "# Проверка обработки исключений\n",
        "try:\n",
        "    f_invalid = Fraction(5, 0)\n",
        "except ValueError as e:\n",
        "    print(e)  # Ожидаемый вывод: Знаменатель не может быть нулем\n",
        "\n",
        "# Строковое и официальное представление\n",
        "print(str(f1))    # Ожидаемый вывод: 3/4\n",
        "print(repr(f1))   # Ожидаемый вывод: Fraction(3, 4)"
      ],
      "metadata": {
        "id": "U1UtgDM0xlqJ"
      },
      "execution_count": null,
      "outputs": []
    }
  ]
}